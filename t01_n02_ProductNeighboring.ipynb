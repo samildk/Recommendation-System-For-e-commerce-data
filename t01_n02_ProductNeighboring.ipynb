{
  "nbformat": 4,
  "nbformat_minor": 0,
  "metadata": {
    "colab": {
      "name": "t01_n02_ProductNeighboring.ipynb",
      "provenance": [],
      "collapsed_sections": []
    },
    "kernelspec": {
      "name": "python3",
      "display_name": "Python 3"
    },
    "language_info": {
      "name": "python"
    }
  },
  "cells": [
    {
      "cell_type": "code",
      "source": [
        "import numpy as np\n",
        "import pandas as pd\n",
        "from tqdm import tqdm\n",
        "from datetime import date, datetime, timedelta"
      ],
      "metadata": {
        "id": "lgfW-DyQvCeG"
      },
      "execution_count": 9,
      "outputs": []
    },
    {
      "cell_type": "code",
      "source": [
        "def Product_Nei(Data_Frame):\n",
        "  Data_Frame_purchase = Data_Frame[Data_Frame[\"event_type\"]==\"purchase\"]   #loading \"purchase\" part of dataset\n",
        "  Data_Frame_sp= Data_Frame_purchase[[\"user_session\", 'product_id']].drop_duplicates(keep=\"first\")   #droping datas that are duplicate products \n",
        "\n",
        "  session_num = Data_Frame_sp.user_session.value_counts() #number of purchases in any session \n",
        "  non_zero_sessions = session_num[session_num>1].index  #selecting sessions that have more than one products in them\n",
        "  Data_Frame_SesPId= Data_Frame_sp.set_index('user_session').loc[non_zero_sessions] #dataframe for latter sessions with 'user_session' index\n",
        "  list_of_all_sim=[]\n",
        "\n",
        "  for i in non_zero_sessions:   #reading name of mutual products and adding them to a list\n",
        "    a= Data_Frame_SesPId.loc[i].product_id.values.tolist()\n",
        "    a.sort()\n",
        "    list_of_all_sim.append(a)\n",
        "\n",
        "  return list_of_all_sim"
      ],
      "metadata": {
        "id": "9Jo-48kkonUI"
      },
      "execution_count": 26,
      "outputs": []
    },
    {
      "cell_type": "code",
      "source": [
        "\n",
        "ddf= pd.read_csv('2019-Nov.csv', chunksize=1000000)   #loading one chunk of dataset\n",
        "\n",
        "main_sim=[]\n",
        "\n",
        "for d in ddf:\n",
        "    df = pd.DataFrame (d)\n",
        "    sim=Product_Nei(df)\n",
        "    main_sim.extend(sim)\n",
        "\n",
        "# df.head (10)"
      ],
      "metadata": {
        "id": "XqIrELznvMdv"
      },
      "execution_count": 32,
      "outputs": []
    },
    {
      "cell_type": "code",
      "source": [
        "with open(r'/content/drive/MyDrive/BlueBee/list_of_sim.txt', 'w') as fp:\n",
        "    for item in main_sim:\n",
        "        fp.write(\"%s\\n\" % item)\n",
        "    print('Done')"
      ],
      "metadata": {
        "colab": {
          "base_uri": "https://localhost:8080/"
        },
        "id": "Lv1cT5YK8G7P",
        "outputId": "872ec06e-b443-48c7-bc79-c1e4b4c3cf4b"
      },
      "execution_count": 34,
      "outputs": [
        {
          "output_type": "stream",
          "name": "stdout",
          "text": [
            "Done\n"
          ]
        }
      ]
    }
  ]
}