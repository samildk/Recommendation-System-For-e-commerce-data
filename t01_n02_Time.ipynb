{
  "nbformat": 4,
  "nbformat_minor": 0,
  "metadata": {
    "colab": {
      "name": "t01_n02_Time.ipynb",
      "provenance": [],
      "collapsed_sections": []
    },
    "kernelspec": {
      "name": "python3",
      "display_name": "Python 3"
    },
    "language_info": {
      "name": "python"
    }
  },
  "cells": [
    {
      "cell_type": "code",
      "source": [
        "import numpy as np\n",
        "import pandas as pd\n",
        "from datetime import date, datetime, timedelta\n",
        "import time \n",
        "from tqdm import tqdm"
      ],
      "metadata": {
        "id": "zNyHDGenCBCs"
      },
      "execution_count": 102,
      "outputs": []
    },
    {
      "cell_type": "code",
      "source": [
        "'''\n",
        "this function gets \"event time\" column and seperate time and date \n",
        "by having date gives week day and month \n",
        "  '''\n",
        "def d_t (event_time):\n",
        "    date = event_time.split(' ')[0]\n",
        "    time = event_time.split(' ')[1]\n",
        "    week_day = datetime.strptime(date,'%Y-%m-%d').weekday()\n",
        "    time = datetime.strptime(time, \"%H:%M:%S\").hour\n",
        "    # month=datetime.strptime(date,'%Y-%m-%d').month  #if in dataframe there was month\n",
        "    \n",
        "    return date, time, week_day\n"
      ],
      "metadata": {
        "id": "ss7fxcf9CrM9"
      },
      "execution_count": 99,
      "outputs": []
    },
    {
      "cell_type": "code",
      "source": [
        "def WeekTimeScoring(Data_Frame):\n",
        "  \n",
        "  Data_Frame[['date', 'time','week_day']] = Data_Frame.event_time.apply(d_t).tolist() # adds time and date column to the data frame by adding latter functions\n",
        "  Data_Frame['time_score']=1 #add an additional column to count number of events in groupby\n",
        "\n",
        "  df_user_time_wkday = Data_Frame.groupby([\"user_id\",'time','week_day']).sum(\"time_score\").sort_values('time_score',ascending=False) #group by time \n",
        "\n",
        "\n",
        "  return df_user_time_wkday['time_score']    #will drop unnecessary columns \n",
        "\n",
        "  "
      ],
      "metadata": {
        "id": "78elIg3MKseq"
      },
      "execution_count": 101,
      "outputs": []
    },
    {
      "cell_type": "code",
      "source": [
        "\n",
        "ddf= pd.read_csv('2019-Nov.csv', chunksize=1000000)\n",
        "time.time()\n",
        "list_of_Time_df=[]\n",
        "\n",
        "main=pd.DataFrame()\n",
        "for d in tqdm(ddf):\n",
        "    df = pd.DataFrame (d)\n",
        "    main=main.append(WeekTimeScoring(df))#.reset_index()\n",
        "    main.groupby([\"user_id\",'time','week_day']).sum(\"time_score\").sort_values('time_score',ascending=False)\n"
      ],
      "metadata": {
        "colab": {
          "base_uri": "https://localhost:8080/"
        },
        "id": "TM0jDxamCQRG",
        "outputId": "d24f5ba0-ef08-410e-f2d5-1412f55ce1e1"
      },
      "execution_count": 94,
      "outputs": [
        {
          "output_type": "stream",
          "name": "stderr",
          "text": [
            "68it [37:06, 32.74s/it]\n"
          ]
        }
      ]
    },
    {
      "cell_type": "code",
      "source": [
        "main.head()"
      ],
      "metadata": {
        "colab": {
          "base_uri": "https://localhost:8080/",
          "height": 237
        },
        "id": "4BA8ddiZu69G",
        "outputId": "5aa550b1-f5cf-4358-c36d-b423665c628a"
      },
      "execution_count": 98,
      "outputs": [
        {
          "output_type": "execute_result",
          "data": {
            "text/plain": [
              "                         time_score\n",
              "user_id   time week_day            \n",
              "537972582 6    4              158.0\n",
              "513002539 3    4              143.0\n",
              "537972582 5    4              141.0\n",
              "          4    4              139.0\n",
              "513998518 12   4              129.0"
            ],
            "text/html": [
              "\n",
              "  <div id=\"df-dee3d4f7-eb73-4b20-a3ff-51ee2de7c560\">\n",
              "    <div class=\"colab-df-container\">\n",
              "      <div>\n",
              "<style scoped>\n",
              "    .dataframe tbody tr th:only-of-type {\n",
              "        vertical-align: middle;\n",
              "    }\n",
              "\n",
              "    .dataframe tbody tr th {\n",
              "        vertical-align: top;\n",
              "    }\n",
              "\n",
              "    .dataframe thead th {\n",
              "        text-align: right;\n",
              "    }\n",
              "</style>\n",
              "<table border=\"1\" class=\"dataframe\">\n",
              "  <thead>\n",
              "    <tr style=\"text-align: right;\">\n",
              "      <th></th>\n",
              "      <th></th>\n",
              "      <th></th>\n",
              "      <th>time_score</th>\n",
              "    </tr>\n",
              "    <tr>\n",
              "      <th>user_id</th>\n",
              "      <th>time</th>\n",
              "      <th>week_day</th>\n",
              "      <th></th>\n",
              "    </tr>\n",
              "  </thead>\n",
              "  <tbody>\n",
              "    <tr>\n",
              "      <th>537972582</th>\n",
              "      <th>6</th>\n",
              "      <th>4</th>\n",
              "      <td>158.0</td>\n",
              "    </tr>\n",
              "    <tr>\n",
              "      <th>513002539</th>\n",
              "      <th>3</th>\n",
              "      <th>4</th>\n",
              "      <td>143.0</td>\n",
              "    </tr>\n",
              "    <tr>\n",
              "      <th rowspan=\"2\" valign=\"top\">537972582</th>\n",
              "      <th>5</th>\n",
              "      <th>4</th>\n",
              "      <td>141.0</td>\n",
              "    </tr>\n",
              "    <tr>\n",
              "      <th>4</th>\n",
              "      <th>4</th>\n",
              "      <td>139.0</td>\n",
              "    </tr>\n",
              "    <tr>\n",
              "      <th>513998518</th>\n",
              "      <th>12</th>\n",
              "      <th>4</th>\n",
              "      <td>129.0</td>\n",
              "    </tr>\n",
              "  </tbody>\n",
              "</table>\n",
              "</div>\n",
              "      <button class=\"colab-df-convert\" onclick=\"convertToInteractive('df-dee3d4f7-eb73-4b20-a3ff-51ee2de7c560')\"\n",
              "              title=\"Convert this dataframe to an interactive table.\"\n",
              "              style=\"display:none;\">\n",
              "        \n",
              "  <svg xmlns=\"http://www.w3.org/2000/svg\" height=\"24px\"viewBox=\"0 0 24 24\"\n",
              "       width=\"24px\">\n",
              "    <path d=\"M0 0h24v24H0V0z\" fill=\"none\"/>\n",
              "    <path d=\"M18.56 5.44l.94 2.06.94-2.06 2.06-.94-2.06-.94-.94-2.06-.94 2.06-2.06.94zm-11 1L8.5 8.5l.94-2.06 2.06-.94-2.06-.94L8.5 2.5l-.94 2.06-2.06.94zm10 10l.94 2.06.94-2.06 2.06-.94-2.06-.94-.94-2.06-.94 2.06-2.06.94z\"/><path d=\"M17.41 7.96l-1.37-1.37c-.4-.4-.92-.59-1.43-.59-.52 0-1.04.2-1.43.59L10.3 9.45l-7.72 7.72c-.78.78-.78 2.05 0 2.83L4 21.41c.39.39.9.59 1.41.59.51 0 1.02-.2 1.41-.59l7.78-7.78 2.81-2.81c.8-.78.8-2.07 0-2.86zM5.41 20L4 18.59l7.72-7.72 1.47 1.35L5.41 20z\"/>\n",
              "  </svg>\n",
              "      </button>\n",
              "      \n",
              "  <style>\n",
              "    .colab-df-container {\n",
              "      display:flex;\n",
              "      flex-wrap:wrap;\n",
              "      gap: 12px;\n",
              "    }\n",
              "\n",
              "    .colab-df-convert {\n",
              "      background-color: #E8F0FE;\n",
              "      border: none;\n",
              "      border-radius: 50%;\n",
              "      cursor: pointer;\n",
              "      display: none;\n",
              "      fill: #1967D2;\n",
              "      height: 32px;\n",
              "      padding: 0 0 0 0;\n",
              "      width: 32px;\n",
              "    }\n",
              "\n",
              "    .colab-df-convert:hover {\n",
              "      background-color: #E2EBFA;\n",
              "      box-shadow: 0px 1px 2px rgba(60, 64, 67, 0.3), 0px 1px 3px 1px rgba(60, 64, 67, 0.15);\n",
              "      fill: #174EA6;\n",
              "    }\n",
              "\n",
              "    [theme=dark] .colab-df-convert {\n",
              "      background-color: #3B4455;\n",
              "      fill: #D2E3FC;\n",
              "    }\n",
              "\n",
              "    [theme=dark] .colab-df-convert:hover {\n",
              "      background-color: #434B5C;\n",
              "      box-shadow: 0px 1px 3px 1px rgba(0, 0, 0, 0.15);\n",
              "      filter: drop-shadow(0px 1px 2px rgba(0, 0, 0, 0.3));\n",
              "      fill: #FFFFFF;\n",
              "    }\n",
              "  </style>\n",
              "\n",
              "      <script>\n",
              "        const buttonEl =\n",
              "          document.querySelector('#df-dee3d4f7-eb73-4b20-a3ff-51ee2de7c560 button.colab-df-convert');\n",
              "        buttonEl.style.display =\n",
              "          google.colab.kernel.accessAllowed ? 'block' : 'none';\n",
              "\n",
              "        async function convertToInteractive(key) {\n",
              "          const element = document.querySelector('#df-dee3d4f7-eb73-4b20-a3ff-51ee2de7c560');\n",
              "          const dataTable =\n",
              "            await google.colab.kernel.invokeFunction('convertToInteractive',\n",
              "                                                     [key], {});\n",
              "          if (!dataTable) return;\n",
              "\n",
              "          const docLinkHtml = 'Like what you see? Visit the ' +\n",
              "            '<a target=\"_blank\" href=https://colab.research.google.com/notebooks/data_table.ipynb>data table notebook</a>'\n",
              "            + ' to learn more about interactive tables.';\n",
              "          element.innerHTML = '';\n",
              "          dataTable['output_type'] = 'display_data';\n",
              "          await google.colab.output.renderOutput(dataTable, element);\n",
              "          const docLink = document.createElement('div');\n",
              "          docLink.innerHTML = docLinkHtml;\n",
              "          element.appendChild(docLink);\n",
              "        }\n",
              "      </script>\n",
              "    </div>\n",
              "  </div>\n",
              "  "
            ]
          },
          "metadata": {},
          "execution_count": 98
        }
      ]
    },
    {
      "cell_type": "code",
      "source": [
        "Save=main.to_csv('users time score')"
      ],
      "metadata": {
        "id": "N8gltzbhg5sk"
      },
      "execution_count": 97,
      "outputs": []
    }
  ]
}